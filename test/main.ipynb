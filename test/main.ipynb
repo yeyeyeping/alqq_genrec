{
 "cells": [
  {
   "cell_type": "code",
   "execution_count": null,
   "id": "eb478bdf",
   "metadata": {},
   "outputs": [],
   "source": [
    "import pickle\n",
    "import pandas as pd\n",
    "import json"
   ]
  },
  {
   "cell_type": "code",
   "execution_count": null,
   "id": "6cd7e9d9",
   "metadata": {},
   "outputs": [],
   "source": [
    "seq_offset = pickle.load(open(\"/home/yeep/project/algo_qq555/data/TencentGR_1k/seq_offsets.pkl\", \"rb\"))\n",
    "f = open(\"/home/yeep/project/algo_qq555/data/TencentGR_1k/seq.jsonl\", \"r\")"
   ]
  },
  {
   "cell_type": "code",
   "execution_count": null,
   "id": "472d624d",
   "metadata": {},
   "outputs": [],
   "source": [
    "seq = json.loads(f.readline())"
   ]
  },
  {
   "cell_type": "code",
   "execution_count": null,
   "id": "a9d16139",
   "metadata": {},
   "outputs": [],
   "source": [
    "for i, s in enumerate(seq):\n",
    "    if s[2] is not None:\n",
    "        print(i)\n",
    "        break\n"
   ]
  },
  {
   "cell_type": "code",
   "execution_count": null,
   "id": "5b97524a",
   "metadata": {},
   "outputs": [],
   "source": [
    "seq[98]"
   ]
  },
  {
   "cell_type": "code",
   "execution_count": null,
   "id": "a6770f6c",
   "metadata": {},
   "outputs": [],
   "source": [
    "from utils import read_pickle   "
   ]
  },
  {
   "cell_type": "code",
   "execution_count": null,
   "id": "542063cc",
   "metadata": {},
   "outputs": [],
   "source": [
    "pkl = read_pickle(\"/home/yeep/project/alqq_generc/data/TencentGR_1k/creative_emb/emb_81_32.pkl\")"
   ]
  },
  {
   "cell_type": "code",
   "execution_count": null,
   "id": "ca5e8c4d",
   "metadata": {},
   "outputs": [],
   "source": [
    "indexer = read_pickle(\"/home/yeep/project/alqq_generc/data/TencentGR_1k/indexer.pkl\")"
   ]
  },
  {
   "cell_type": "code",
   "execution_count": null,
   "id": "8c821f09",
   "metadata": {},
   "outputs": [],
   "source": [
    "mapping = {v:k for k,v in indexer['i'].items()}"
   ]
  },
  {
   "cell_type": "code",
   "execution_count": null,
   "id": "ca40a294",
   "metadata": {},
   "outputs": [],
   "source": [
    "pkl.get(20000697126)"
   ]
  },
  {
   "cell_type": "code",
   "execution_count": null,
   "id": "81e6d4cd",
   "metadata": {},
   "outputs": [],
   "source": [
    "indexer['u']"
   ]
  },
  {
   "cell_type": "code",
   "execution_count": null,
   "id": "5ed03f4a",
   "metadata": {},
   "outputs": [],
   "source": [
    "indexer['i']"
   ]
  },
  {
   "cell_type": "code",
   "execution_count": null,
   "id": "4f58b437",
   "metadata": {},
   "outputs": [],
   "source": [
    "import json"
   ]
  },
  {
   "cell_type": "code",
   "execution_count": null,
   "id": "8879cfa1",
   "metadata": {},
   "outputs": [],
   "source": [
    "feat_dict = json.load(open(\"/home/yeep/project/alqq_generc/data/TencentGR_1k/item_feat_dict.json\"))"
   ]
  },
  {
   "cell_type": "code",
   "execution_count": null,
   "id": "d3a48153",
   "metadata": {},
   "outputs": [],
   "source": [
    "feat_dict"
   ]
  },
  {
   "cell_type": "code",
   "execution_count": null,
   "id": "67bee762",
   "metadata": {},
   "outputs": [],
   "source": []
  },
  {
   "cell_type": "code",
   "execution_count": null,
   "id": "7488d19a",
   "metadata": {},
   "outputs": [],
   "source": []
  },
  {
   "cell_type": "code",
   "execution_count": null,
   "id": "2d8da8a9",
   "metadata": {},
   "outputs": [],
   "source": [
    "import torch"
   ]
  },
  {
   "cell_type": "code",
   "execution_count": null,
   "id": "89f8f6d3",
   "metadata": {},
   "outputs": [],
   "source": [
    "creative_id = torch.arange(10, 0, -1)"
   ]
  },
  {
   "cell_type": "code",
   "execution_count": null,
   "id": "457df93c",
   "metadata": {},
   "outputs": [],
   "source": [
    "a = torch.randint(0,10,size=(10, 10))"
   ]
  },
  {
   "cell_type": "code",
   "execution_count": null,
   "id": "fc6d49c1",
   "metadata": {},
   "outputs": [],
   "source": [
    "creative_id[a]"
   ]
  },
  {
   "cell_type": "code",
   "execution_count": null,
   "id": "d62e403b",
   "metadata": {},
   "outputs": [],
   "source": [
    "import sys\n",
    "sys.path.append(\"/home/yeep/project/alqq_generc\")\n",
    "from utils import read_pickle,read_json\n",
    "indexer = read_pickle(\"/home/yeep/project/alqq_generc/data/TencentGR_1k/indexer.pkl\")\n",
    "item_feat_dict = read_json(\"/home/yeep/project/alqq_generc/data/TencentGR_1k/item_feat_dict.json\")"
   ]
  },
  {
   "cell_type": "code",
   "execution_count": null,
   "id": "e8d81182",
   "metadata": {},
   "outputs": [],
   "source": [
    "reid2creative_id = {v:k for k,v in indexer['i'].items()}"
   ]
  },
  {
   "cell_type": "code",
   "execution_count": null,
   "id": "003e8caf",
   "metadata": {},
   "outputs": [],
   "source": [
    "feature = item_feat_dict.values()\n",
    "creative_id = [reid2creative_id[int(i)] for i in item_feat_dict.keys()]"
   ]
  },
  {
   "cell_type": "code",
   "execution_count": null,
   "id": "ba1074e6",
   "metadata": {},
   "outputs": [],
   "source": [
    "import json\n",
    "predict_set = []\n",
    "for c, d in zip(creative_id,feature):\n",
    "    predict_set.append(json.dumps({\"creative_id\":c, \"features\":d}))"
   ]
  },
  {
   "cell_type": "code",
   "execution_count": null,
   "id": "65020ede",
   "metadata": {},
   "outputs": [],
   "source": [
    "with open(\"/home/yeep/project/alqq_generc/data/test_data/predict_set.jsonl\", \"w\") as f:\n",
    "    for p in predict_set:\n",
    "        f.write(p + \"\\n\")"
   ]
  },
  {
   "cell_type": "code",
   "execution_count": null,
   "id": "30821365",
   "metadata": {},
   "outputs": [],
   "source": []
  },
  {
   "cell_type": "code",
   "execution_count": null,
   "id": "2aaae523",
   "metadata": {},
   "outputs": [],
   "source": []
  },
  {
   "cell_type": "code",
   "execution_count": null,
   "id": "8082d950",
   "metadata": {},
   "outputs": [],
   "source": []
  },
  {
   "cell_type": "code",
   "execution_count": null,
   "id": "b7ef72a1",
   "metadata": {},
   "outputs": [],
   "source": [
    "indexer = read_pickle(\"/home/yeep/project/alqq_generc/data/TencentGR_1k/indexer.pkl\")\n",
    "create_emb = read_pickle(\"/home/yeep/project/alqq_generc/data/TencentGR_1k/creative_emb/emb_81_32.pkl\")\n",
    "feature = read_json(\"/home/yeep/project/alqq_generc/data/TencentGR_1k/item_feat_dict.json\")"
   ]
  },
  {
   "cell_type": "code",
   "execution_count": null,
   "id": "b8882fb4",
   "metadata": {},
   "outputs": [],
   "source": [
    "reid2creativeid = {v:k for k,v in indexer['i'].items()}"
   ]
  },
  {
   "cell_type": "code",
   "execution_count": null,
   "id": "9bb42449",
   "metadata": {},
   "outputs": [],
   "source": [
    "reid2creative_id[2604]"
   ]
  },
  {
   "cell_type": "code",
   "execution_count": null,
   "id": "a22eb2de",
   "metadata": {},
   "outputs": [],
   "source": [
    "create_emb[20000680156]"
   ]
  },
  {
   "cell_type": "code",
   "execution_count": null,
   "id": "c61d1bd3",
   "metadata": {},
   "outputs": [],
   "source": [
    "from timm.scheduler import CosineLRScheduler\n",
    "from torch import nn\n",
    "from torch.optim import Adam\n",
    "from matplotlib import pyplot as plt"
   ]
  },
  {
   "cell_type": "code",
   "execution_count": null,
   "id": "250191e3",
   "metadata": {},
   "outputs": [],
   "source": [
    "model = nn.Linear(10,10)\n",
    "opt = Adam(model.parameters(),lr=0.3)"
   ]
  },
  {
   "cell_type": "code",
   "execution_count": null,
   "id": "436e4dd1",
   "metadata": {},
   "outputs": [],
   "source": [
    "sched = CosineLRScheduler(opt,cycle_limit=2,t_initial=5,cycle_decay=0.6, t_in_epochs=False)"
   ]
  },
  {
   "cell_type": "code",
   "execution_count": null,
   "id": "2c36bf2d",
   "metadata": {},
   "outputs": [],
   "source": [
    "lr_hist = []\n",
    "for i in range(30):\n",
    "    opt.step()\n",
    "    lr_hist.append(opt.param_groups[0]['lr'])\n",
    "    sched.step_update(i)"
   ]
  },
  {
   "cell_type": "code",
   "execution_count": null,
   "id": "7c2cbd77",
   "metadata": {},
   "outputs": [],
   "source": [
    "plt.plot(lr_hist)"
   ]
  },
  {
   "cell_type": "code",
   "execution_count": 1,
   "id": "4a5ae4bb",
   "metadata": {},
   "outputs": [],
   "source": [
    "import pickle\n",
    "pkl1 = pickle.load(open(\"/home/yeep/project/alqq_generc/data/annoyid2top20sim_dict.pkl\", \"rb\"))\n",
    "pkl2 = pickle.load(open(\"/home/yeep/project/alqq_generc/data/annoyid2top20sim_dict_.pkl\", \"rb\"))"
   ]
  },
  {
   "cell_type": "code",
   "execution_count": 2,
   "id": "618ee84e",
   "metadata": {},
   "outputs": [
    {
     "name": "stdout",
     "output_type": "stream",
     "text": [
      "[12716, 4642, 52594, 42904, 2420, 3330, 1558, 10547, 235, 15750, 40556, 32725, 33915, 55684, 48930, 55037, 24539, 17289, 36283, 14279]\n"
     ]
    }
   ],
   "source": [
    "print(pkl1[40409])"
   ]
  },
  {
   "cell_type": "code",
   "execution_count": 4,
   "id": "e29fc515",
   "metadata": {},
   "outputs": [
    {
     "name": "stdout",
     "output_type": "stream",
     "text": [
      "[12716, 4642, 52594, 42904, 2420, 3330, 1558, 10547, 235, 32725, 40556, 15750, 55684, 33915, 48930, 55037, 24539, 10677, 17289, 14279]\n"
     ]
    }
   ],
   "source": [
    "print(pkl2[40409])"
   ]
  },
  {
   "cell_type": "code",
   "execution_count": null,
   "id": "9716d6ea",
   "metadata": {},
   "outputs": [],
   "source": []
  }
 ],
 "metadata": {
  "kernelspec": {
   "display_name": "algo_qq",
   "language": "python",
   "name": "python3"
  },
  "language_info": {
   "codemirror_mode": {
    "name": "ipython",
    "version": 3
   },
   "file_extension": ".py",
   "mimetype": "text/x-python",
   "name": "python",
   "nbconvert_exporter": "python",
   "pygments_lexer": "ipython3",
   "version": "3.9.0"
  }
 },
 "nbformat": 4,
 "nbformat_minor": 5
}
